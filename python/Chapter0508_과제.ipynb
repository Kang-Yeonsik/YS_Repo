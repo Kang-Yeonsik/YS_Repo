{
  "cells": [
    {
      "cell_type": "markdown",
      "metadata": {
        "id": "view-in-github",
        "colab_type": "text"
      },
      "source": [
        "<a href=\"https://colab.research.google.com/github/Kang-Yeonsik/YS_Repo/blob/main/python/Chapter0508_%E1%84%80%E1%85%AA%E1%84%8C%E1%85%A6.ipynb\" target=\"_parent\"><img src=\"https://colab.research.google.com/assets/colab-badge.svg\" alt=\"Open In Colab\"/></a>"
      ]
    },
    {
      "cell_type": "markdown",
      "metadata": {
        "id": "WXEwMsfUct7U"
      },
      "source": [
        "안녕하세요.<br><br>\n",
        "수강생 여러분~! Chapter05 ~ 08 수업은 잘 들으셨나요?\n",
        "\n",
        "Chapter05 ~ 08의 수업 내용을 바탕으로 아래 문제를 풀어주시면 됩니다.\n",
        "\n",
        "[**답변 입력 방법**]\n",
        "\n",
        "문제 아래에 있는 코드 입력창에 정답코드를 작성하신 후 ▷ 버튼을 클릭해 코드를 실행해보세요<br>"
      ]
    },
    {
      "cell_type": "markdown",
      "metadata": {
        "id": "qoyC9wF-3hvs"
      },
      "source": [
        "-----"
      ]
    },
    {
      "cell_type": "markdown",
      "metadata": {
        "id": "rAD_O3Gmc_43"
      },
      "source": [
        "[문제1]\n",
        "\n",
        "변수명 게임에 들어 있는 값 중 '홀'만 출력되도록 코드를 작성해 주세요\n",
        "\n",
        "게임 = \"홀짝홀짝홀짝\"\n",
        "\n",
        "출력 예시 : \"홀홀홀\"\n"
      ]
    },
    {
      "cell_type": "code",
      "execution_count": 3,
      "metadata": {
        "id": "74wtVQFFc_h1",
        "colab": {
          "base_uri": "https://localhost:8080/"
        },
        "outputId": "afdebeb0-0224-4a96-b059-32473d88a0c6"
      },
      "outputs": [
        {
          "output_type": "stream",
          "name": "stdout",
          "text": [
            "홀홀홀\n"
          ]
        }
      ],
      "source": [
        "게임 = \"홀짝홀짝홀짝\"\n",
        "print(게임[::2])"
      ]
    },
    {
      "cell_type": "markdown",
      "metadata": {
        "id": "l20zcjdV3Vvm"
      },
      "source": [
        "---"
      ]
    },
    {
      "cell_type": "markdown",
      "metadata": {
        "id": "3uK_auXYdgk2"
      },
      "source": [
        "[문제2]\n",
        "\n",
        "변수명 전화번호에 들어 있는 번호를 모두 붙여서 출력되도록 코드를 작성해주세요\n",
        "\n",
        "전화번호 = \"010-1234-5678\"\n",
        "\n",
        "출력 예시 : \"01012345678\""
      ]
    },
    {
      "cell_type": "code",
      "execution_count": 8,
      "metadata": {
        "id": "9kvBxa6PdhgA",
        "colab": {
          "base_uri": "https://localhost:8080/"
        },
        "outputId": "5bc435d6-f8af-48ad-a0e2-d28e325faaec"
      },
      "outputs": [
        {
          "output_type": "stream",
          "name": "stdout",
          "text": [
            "01012345678\n"
          ]
        }
      ],
      "source": [
        "전화번호 = \"010-1234-5678\"\n",
        "앞자리 = 전화번호[0:3]\n",
        "가운데 = 전화번호[4:8]\n",
        "끝자리 = 전화번호[9:13]\n",
        "print(f'{앞자리}{가운데}{끝자리}')"
      ]
    },
    {
      "cell_type": "markdown",
      "metadata": {
        "id": "WRe2Xrv93Vvn"
      },
      "source": [
        "----"
      ]
    },
    {
      "cell_type": "markdown",
      "metadata": {
        "id": "2Jte2VLKdiPm"
      },
      "source": [
        "[문제3]\n",
        "\n",
        "창의성, 시장성, 안정성, 수익성에 대한 각각의 평가 중 아래 기준에 부합하지 못하면 창업지원을 받을 수 없습니다.\n",
        "\n",
        "- 수익성 60점 이상\n",
        "- 창의성과 시장성 50점 이상\n",
        "- 시장성과 수익성을 더한 값의 절반이 안정성 보다 높아야 함\n",
        "\n",
        "다음 점수가 입력되었을때 창업 지원이 가능한지 여부를 True 또는 False로 출력해주세요\n",
        "\n",
        "---\n",
        "\n",
        "창의성 : 62\n",
        "시장성 : 71\n",
        "안정성 : 68\n",
        "수익성 : 66"
      ]
    },
    {
      "cell_type": "code",
      "execution_count": 14,
      "metadata": {
        "id": "XJhvRO-2djBh",
        "colab": {
          "base_uri": "https://localhost:8080/"
        },
        "outputId": "09c4d74c-3520-466b-95d0-9aa98a7446aa"
      },
      "outputs": [
        {
          "output_type": "stream",
          "name": "stdout",
          "text": [
            "True\n"
          ]
        }
      ],
      "source": [
        "창의성, 시장성, 안정성, 수익성 = 62, 71, 68, 66\n",
        "print(수익성 >=60 and 창의성 and 시장성 >= 50 and (시장성 + 수익성)/2 > 안정성)"
      ]
    }
  ],
  "metadata": {
    "colab": {
      "provenance": [],
      "include_colab_link": true
    },
    "kernelspec": {
      "display_name": "Python 3",
      "name": "python3"
    },
    "language_info": {
      "name": "python"
    }
  },
  "nbformat": 4,
  "nbformat_minor": 0
}